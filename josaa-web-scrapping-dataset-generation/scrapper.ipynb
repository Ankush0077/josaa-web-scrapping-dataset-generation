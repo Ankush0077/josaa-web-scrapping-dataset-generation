{
 "cells": [
  {
   "cell_type": "code",
   "execution_count": 1,
   "id": "ffa57e83",
   "metadata": {},
   "outputs": [],
   "source": [
    "import requests\n",
    "from bs4 import BeautifulSoup\n",
    "import pandas as pd"
   ]
  },
  {
   "cell_type": "code",
   "execution_count": 2,
   "id": "89472e2c",
   "metadata": {},
   "outputs": [],
   "source": [
    "url = 'https://josaa.admissions.nic.in/Result/Result/OpeningClosingRankArchieve.aspx'\n",
    "\n",
    "params = {\n",
    "    \"ctl00$ContentPlaceHolder1$ddlInstype\": \"ALL\",\n",
    "    \"ctl00$ContentPlaceHolder1$ddlInstitute\": \"ALL\",\n",
    "    \"ctl00$ContentPlaceHolder1$ddlBranch\": \"ALL\",\n",
    "    \"ctl00$ContentPlaceHolder1$ddlSeatType\": \"ALL\",\n",
    "    \"ctl00$ContentPlaceHolder1$btnSubmit\": \"Submit\",\n",
    "}"
   ]
  },
  {
   "cell_type": "code",
   "execution_count": 3,
   "id": "d233984c",
   "metadata": {},
   "outputs": [],
   "source": [
    "def josaa_scrape(year, Round):\n",
    "    \"\"\"\n",
    "    Sample usage: df = josaa_scrape(\"2018\", \"1\")\n",
    "    df.info()\n",
    "    \"\"\"\n",
    "    with requests.Session() as s:\n",
    "        R = s.get(url)\n",
    "        data = {}\n",
    "        data.update({tag['name']: tag['value'] for tag in BeautifulSoup(R.content, 'lxml').select('input[name^=__]')})\n",
    "        data[\"ctl00$ContentPlaceHolder1$ddlYear\"] = year\n",
    "        R = s.post(url, data=data)\n",
    "\n",
    "        data.update({tag['name']: tag['value'] for tag in BeautifulSoup(R.content, 'lxml').select('input[name^=__]')})\n",
    "        data[\"ctl00$ContentPlaceHolder1$ddlroundno\"] = Round\n",
    "        R = s.post(url, data=data)\n",
    "\n",
    "        for key, value in params.items():\n",
    "            data.update({tag['name']: tag['value'] for tag in BeautifulSoup(R.content, 'lxml').select('input[name^=__]')})\n",
    "            data[key] = value\n",
    "            R = s.post(url, data=data)\n",
    "    \n",
    "    \n",
    "    table = BeautifulSoup(R.text, 'lxml').find(id = 'ctl00_ContentPlaceHolder1_GridView1')\n",
    "    df = pd.read_html(table.prettify())[0]\n",
    "    df.dropna(inplace = True, how=\"all\")\n",
    "\n",
    "    df[\"Year\"] = year\n",
    "    df[\"Round\"] = Round\n",
    "    df['Opening Rank'] = df['Opening Rank']\n",
    "    df['Closing Rank'] = df['Closing Rank']\n",
    "\n",
    "    return df"
   ]
  },
  {
   "cell_type": "code",
   "execution_count": 22,
   "id": "ee966a94",
   "metadata": {},
   "outputs": [],
   "source": [
    "# df = josaa_scrape(\"2018\", \"1\")\n",
    "# df.info()"
   ]
  },
  {
   "cell_type": "code",
   "execution_count": 10,
   "id": "179de088",
   "metadata": {},
   "outputs": [],
   "source": [
    "years = [\n",
    "#     \"2019\",\n",
    "#     \"2018\",\n",
    "    \"2017\",\n",
    "]\n",
    "\n",
    "rounds = [\n",
    "    \"1\",\n",
    "    \"2\",\n",
    "    \"3\",\n",
    "    \"4\",\n",
    "    \"5\",\n",
    "    \"6\",\n",
    "    \"7\"\n",
    "]"
   ]
  },
  {
   "cell_type": "code",
   "execution_count": 11,
   "id": "c5511936",
   "metadata": {},
   "outputs": [],
   "source": [
    "for year in years:\n",
    "    for Round in rounds:\n",
    "        josaa_scrape(year, Round).to_csv(path_or_buf= \"dataset/\" + year + \"-\" + Round + \".csv\", index=False)"
   ]
  },
  {
   "cell_type": "code",
   "execution_count": 8,
   "id": "4b99a183",
   "metadata": {},
   "outputs": [],
   "source": [
    "years = [\n",
    "    \"2020\",\n",
    "    \"2016\",\n",
    "]\n",
    "\n",
    "rounds = [\n",
    "    \"1\",\n",
    "    \"2\",\n",
    "    \"3\",\n",
    "    \"4\",\n",
    "    \"5\",\n",
    "    \"6\",\n",
    "]"
   ]
  },
  {
   "cell_type": "code",
   "execution_count": 9,
   "id": "51e5bd38",
   "metadata": {},
   "outputs": [],
   "source": [
    "for year in years:\n",
    "    for Round in rounds:\n",
    "        josaa_scrape(year, Round).to_csv(path_or_buf= \"dataset/\" + year + \"-\" + Round + \".csv\", index=False)"
   ]
  },
  {
   "cell_type": "code",
   "execution_count": null,
   "id": "3b8c70f8",
   "metadata": {},
   "outputs": [],
   "source": []
  }
 ],
 "metadata": {
  "kernelspec": {
   "display_name": "Python 3 (ipykernel)",
   "language": "python",
   "name": "python3"
  },
  "language_info": {
   "codemirror_mode": {
    "name": "ipython",
    "version": 3
   },
   "file_extension": ".py",
   "mimetype": "text/x-python",
   "name": "python",
   "nbconvert_exporter": "python",
   "pygments_lexer": "ipython3",
   "version": "3.9.12"
  }
 },
 "nbformat": 4,
 "nbformat_minor": 5
}
